{
 "cells": [
  {
   "cell_type": "code",
   "execution_count": 1,
   "id": "8e027d78-fd3f-46f0-a7b0-654c8811643e",
   "metadata": {},
   "outputs": [],
   "source": [
    "# Importing the packages\n",
    "import pandas as pd\n",
    "import numpy as np\n",
    "\n",
    "# Importing visualization packages\n",
    "import matplotlib.pyplot as plt\n",
    "%matplotlib inline\n",
    "import seaborn as sns"
   ]
  },
  {
   "cell_type": "code",
   "execution_count": 2,
   "id": "10a13979-93a3-42a8-a524-5c4193d90b54",
   "metadata": {},
   "outputs": [],
   "source": [
    "acq=pd.read_csv(r\"C:\\Users\\Joyal\\Desktop\\Data Analytics\\Python\\Case study\\Completed\\Case study 2-credit card\\Customer Acqusition.csv\")"
   ]
  },
  {
   "cell_type": "code",
   "execution_count": 3,
   "id": "94212506-32fb-442c-a79c-880aafcbc96d",
   "metadata": {},
   "outputs": [],
   "source": [
    "rpt=pd.read_csv(r\"C:\\Users\\Joyal\\Desktop\\Data Analytics\\Python\\Case study\\Completed\\Case study 2-credit card\\Repayment.csv\")"
   ]
  },
  {
   "cell_type": "code",
   "execution_count": 4,
   "id": "d61eb293-d016-4b62-90c5-d8f90b9237ff",
   "metadata": {},
   "outputs": [],
   "source": [
    "spnd=pd.read_csv(r\"C:\\Users\\Joyal\\Desktop\\Data Analytics\\Python\\Case study\\Completed\\Case study 2-credit card\\spend.csv\")"
   ]
  },
  {
   "cell_type": "code",
   "execution_count": 5,
   "id": "1ad54357-e2d2-4792-87ec-47ab1103f014",
   "metadata": {},
   "outputs": [
    {
     "data": {
      "text/html": [
       "<div>\n",
       "<style scoped>\n",
       "    .dataframe tbody tr th:only-of-type {\n",
       "        vertical-align: middle;\n",
       "    }\n",
       "\n",
       "    .dataframe tbody tr th {\n",
       "        vertical-align: top;\n",
       "    }\n",
       "\n",
       "    .dataframe thead th {\n",
       "        text-align: right;\n",
       "    }\n",
       "</style>\n",
       "<table border=\"1\" class=\"dataframe\">\n",
       "  <thead>\n",
       "    <tr style=\"text-align: right;\">\n",
       "      <th></th>\n",
       "      <th>No</th>\n",
       "      <th>Customer</th>\n",
       "      <th>Age</th>\n",
       "      <th>City</th>\n",
       "      <th>Product</th>\n",
       "      <th>Limit</th>\n",
       "      <th>Company</th>\n",
       "      <th>Segment</th>\n",
       "    </tr>\n",
       "  </thead>\n",
       "  <tbody>\n",
       "    <tr>\n",
       "      <th>0</th>\n",
       "      <td>1</td>\n",
       "      <td>A1</td>\n",
       "      <td>76</td>\n",
       "      <td>BANGALORE</td>\n",
       "      <td>Gold</td>\n",
       "      <td>500000.0</td>\n",
       "      <td>C1</td>\n",
       "      <td>Self Employed</td>\n",
       "    </tr>\n",
       "    <tr>\n",
       "      <th>1</th>\n",
       "      <td>2</td>\n",
       "      <td>A2</td>\n",
       "      <td>71</td>\n",
       "      <td>CALCUTTA</td>\n",
       "      <td>Silver</td>\n",
       "      <td>100000.0</td>\n",
       "      <td>C2</td>\n",
       "      <td>Salaried_MNC</td>\n",
       "    </tr>\n",
       "    <tr>\n",
       "      <th>2</th>\n",
       "      <td>3</td>\n",
       "      <td>A3</td>\n",
       "      <td>34</td>\n",
       "      <td>COCHIN</td>\n",
       "      <td>Platimum</td>\n",
       "      <td>10000.0</td>\n",
       "      <td>C3</td>\n",
       "      <td>Salaried_Pvt</td>\n",
       "    </tr>\n",
       "    <tr>\n",
       "      <th>3</th>\n",
       "      <td>4</td>\n",
       "      <td>A4</td>\n",
       "      <td>47</td>\n",
       "      <td>BOMBAY</td>\n",
       "      <td>Platimum</td>\n",
       "      <td>10001.0</td>\n",
       "      <td>C4</td>\n",
       "      <td>Govt</td>\n",
       "    </tr>\n",
       "    <tr>\n",
       "      <th>4</th>\n",
       "      <td>5</td>\n",
       "      <td>A5</td>\n",
       "      <td>56</td>\n",
       "      <td>BANGALORE</td>\n",
       "      <td>Platimum</td>\n",
       "      <td>10002.0</td>\n",
       "      <td>C5</td>\n",
       "      <td>Normal Salary</td>\n",
       "    </tr>\n",
       "  </tbody>\n",
       "</table>\n",
       "</div>"
      ],
      "text/plain": [
       "   No Customer  Age       City   Product     Limit Company        Segment\n",
       "0   1       A1   76  BANGALORE      Gold  500000.0      C1  Self Employed\n",
       "1   2       A2   71   CALCUTTA    Silver  100000.0      C2   Salaried_MNC\n",
       "2   3       A3   34     COCHIN  Platimum   10000.0      C3   Salaried_Pvt\n",
       "3   4       A4   47     BOMBAY  Platimum   10001.0      C4           Govt\n",
       "4   5       A5   56  BANGALORE  Platimum   10002.0      C5  Normal Salary"
      ]
     },
     "execution_count": 5,
     "metadata": {},
     "output_type": "execute_result"
    }
   ],
   "source": [
    "acq.head()"
   ]
  },
  {
   "cell_type": "code",
   "execution_count": 6,
   "id": "d45fe9a2-0bc0-40d8-a90f-a324a3203a51",
   "metadata": {},
   "outputs": [
    {
     "data": {
      "text/html": [
       "<div>\n",
       "<style scoped>\n",
       "    .dataframe tbody tr th:only-of-type {\n",
       "        vertical-align: middle;\n",
       "    }\n",
       "\n",
       "    .dataframe tbody tr th {\n",
       "        vertical-align: top;\n",
       "    }\n",
       "\n",
       "    .dataframe thead th {\n",
       "        text-align: right;\n",
       "    }\n",
       "</style>\n",
       "<table border=\"1\" class=\"dataframe\">\n",
       "  <thead>\n",
       "    <tr style=\"text-align: right;\">\n",
       "      <th></th>\n",
       "      <th>SL No:</th>\n",
       "      <th>Customer</th>\n",
       "      <th>Month</th>\n",
       "      <th>Amount</th>\n",
       "      <th>Unnamed: 4</th>\n",
       "    </tr>\n",
       "  </thead>\n",
       "  <tbody>\n",
       "    <tr>\n",
       "      <th>0</th>\n",
       "      <td>NaN</td>\n",
       "      <td>A1</td>\n",
       "      <td>12-Jan-04</td>\n",
       "      <td>495414.75</td>\n",
       "      <td>NaN</td>\n",
       "    </tr>\n",
       "    <tr>\n",
       "      <th>1</th>\n",
       "      <td>2.0</td>\n",
       "      <td>A1</td>\n",
       "      <td>3-Jan-04</td>\n",
       "      <td>245899.02</td>\n",
       "      <td>NaN</td>\n",
       "    </tr>\n",
       "    <tr>\n",
       "      <th>2</th>\n",
       "      <td>3.0</td>\n",
       "      <td>A1</td>\n",
       "      <td>15-Jan-04</td>\n",
       "      <td>259490.06</td>\n",
       "      <td>NaN</td>\n",
       "    </tr>\n",
       "    <tr>\n",
       "      <th>3</th>\n",
       "      <td>4.0</td>\n",
       "      <td>A1</td>\n",
       "      <td>25-Jan-04</td>\n",
       "      <td>437555.12</td>\n",
       "      <td>NaN</td>\n",
       "    </tr>\n",
       "    <tr>\n",
       "      <th>4</th>\n",
       "      <td>5.0</td>\n",
       "      <td>A1</td>\n",
       "      <td>17-Jan-05</td>\n",
       "      <td>165972.88</td>\n",
       "      <td>NaN</td>\n",
       "    </tr>\n",
       "  </tbody>\n",
       "</table>\n",
       "</div>"
      ],
      "text/plain": [
       "   SL No: Customer      Month     Amount  Unnamed: 4\n",
       "0     NaN       A1  12-Jan-04  495414.75         NaN\n",
       "1     2.0       A1   3-Jan-04  245899.02         NaN\n",
       "2     3.0       A1  15-Jan-04  259490.06         NaN\n",
       "3     4.0       A1  25-Jan-04  437555.12         NaN\n",
       "4     5.0       A1  17-Jan-05  165972.88         NaN"
      ]
     },
     "execution_count": 6,
     "metadata": {},
     "output_type": "execute_result"
    }
   ],
   "source": [
    "rpt.head()"
   ]
  },
  {
   "cell_type": "code",
   "execution_count": 7,
   "id": "07f125dd-6c86-46e6-9592-6dc10bacad87",
   "metadata": {},
   "outputs": [],
   "source": [
    "# Drop the 'Unnamed: 4' column\n",
    "rpt = rpt.drop(columns=['Unnamed: 4'])\n"
   ]
  },
  {
   "cell_type": "code",
   "execution_count": 8,
   "id": "13da60ef-29c7-414c-b651-6251f7a439cc",
   "metadata": {},
   "outputs": [
    {
     "data": {
      "text/html": [
       "<div>\n",
       "<style scoped>\n",
       "    .dataframe tbody tr th:only-of-type {\n",
       "        vertical-align: middle;\n",
       "    }\n",
       "\n",
       "    .dataframe tbody tr th {\n",
       "        vertical-align: top;\n",
       "    }\n",
       "\n",
       "    .dataframe thead th {\n",
       "        text-align: right;\n",
       "    }\n",
       "</style>\n",
       "<table border=\"1\" class=\"dataframe\">\n",
       "  <thead>\n",
       "    <tr style=\"text-align: right;\">\n",
       "      <th></th>\n",
       "      <th>Sl No:</th>\n",
       "      <th>Customer</th>\n",
       "      <th>Month</th>\n",
       "      <th>Type</th>\n",
       "      <th>Amount</th>\n",
       "    </tr>\n",
       "  </thead>\n",
       "  <tbody>\n",
       "    <tr>\n",
       "      <th>0</th>\n",
       "      <td>1</td>\n",
       "      <td>A1</td>\n",
       "      <td>12-Jan-04</td>\n",
       "      <td>JEWELLERY</td>\n",
       "      <td>485470.80</td>\n",
       "    </tr>\n",
       "    <tr>\n",
       "      <th>1</th>\n",
       "      <td>2</td>\n",
       "      <td>A1</td>\n",
       "      <td>3-Jan-04</td>\n",
       "      <td>PETRO</td>\n",
       "      <td>410556.13</td>\n",
       "    </tr>\n",
       "    <tr>\n",
       "      <th>2</th>\n",
       "      <td>3</td>\n",
       "      <td>A1</td>\n",
       "      <td>15-Jan-04</td>\n",
       "      <td>CLOTHES</td>\n",
       "      <td>23740.46</td>\n",
       "    </tr>\n",
       "    <tr>\n",
       "      <th>3</th>\n",
       "      <td>4</td>\n",
       "      <td>A1</td>\n",
       "      <td>25-Jan-04</td>\n",
       "      <td>FOOD</td>\n",
       "      <td>484342.47</td>\n",
       "    </tr>\n",
       "    <tr>\n",
       "      <th>4</th>\n",
       "      <td>5</td>\n",
       "      <td>A1</td>\n",
       "      <td>17-Jan-05</td>\n",
       "      <td>CAMERA</td>\n",
       "      <td>369694.07</td>\n",
       "    </tr>\n",
       "  </tbody>\n",
       "</table>\n",
       "</div>"
      ],
      "text/plain": [
       "   Sl No: Customer      Month       Type     Amount\n",
       "0       1       A1  12-Jan-04  JEWELLERY  485470.80\n",
       "1       2       A1   3-Jan-04      PETRO  410556.13\n",
       "2       3       A1  15-Jan-04    CLOTHES   23740.46\n",
       "3       4       A1  25-Jan-04       FOOD  484342.47\n",
       "4       5       A1  17-Jan-05     CAMERA  369694.07"
      ]
     },
     "execution_count": 8,
     "metadata": {},
     "output_type": "execute_result"
    }
   ],
   "source": [
    "spnd.head()"
   ]
  },
  {
   "cell_type": "code",
   "execution_count": 9,
   "id": "741a188b-3028-49a9-a4ac-63e3cdbe43a1",
   "metadata": {},
   "outputs": [],
   "source": [
    "merged_df = pd.merge(acq, rpt, left_on='Customer', right_on='Customer', how='outer')"
   ]
  },
  {
   "cell_type": "code",
   "execution_count": 10,
   "id": "13aced39-e634-4d74-8ddb-1a52fa86e56d",
   "metadata": {},
   "outputs": [
    {
     "data": {
      "text/html": [
       "<div>\n",
       "<style scoped>\n",
       "    .dataframe tbody tr th:only-of-type {\n",
       "        vertical-align: middle;\n",
       "    }\n",
       "\n",
       "    .dataframe tbody tr th {\n",
       "        vertical-align: top;\n",
       "    }\n",
       "\n",
       "    .dataframe thead th {\n",
       "        text-align: right;\n",
       "    }\n",
       "</style>\n",
       "<table border=\"1\" class=\"dataframe\">\n",
       "  <thead>\n",
       "    <tr style=\"text-align: right;\">\n",
       "      <th></th>\n",
       "      <th>No</th>\n",
       "      <th>Customer</th>\n",
       "      <th>Age</th>\n",
       "      <th>City</th>\n",
       "      <th>Product</th>\n",
       "      <th>Limit</th>\n",
       "      <th>Company</th>\n",
       "      <th>Segment</th>\n",
       "      <th>SL No:</th>\n",
       "      <th>Month</th>\n",
       "      <th>Amount</th>\n",
       "    </tr>\n",
       "  </thead>\n",
       "  <tbody>\n",
       "    <tr>\n",
       "      <th>0</th>\n",
       "      <td>1.0</td>\n",
       "      <td>A1</td>\n",
       "      <td>76.0</td>\n",
       "      <td>BANGALORE</td>\n",
       "      <td>Gold</td>\n",
       "      <td>500000.0</td>\n",
       "      <td>C1</td>\n",
       "      <td>Self Employed</td>\n",
       "      <td>NaN</td>\n",
       "      <td>12-Jan-04</td>\n",
       "      <td>495414.75</td>\n",
       "    </tr>\n",
       "    <tr>\n",
       "      <th>1</th>\n",
       "      <td>1.0</td>\n",
       "      <td>A1</td>\n",
       "      <td>76.0</td>\n",
       "      <td>BANGALORE</td>\n",
       "      <td>Gold</td>\n",
       "      <td>500000.0</td>\n",
       "      <td>C1</td>\n",
       "      <td>Self Employed</td>\n",
       "      <td>2.0</td>\n",
       "      <td>3-Jan-04</td>\n",
       "      <td>245899.02</td>\n",
       "    </tr>\n",
       "    <tr>\n",
       "      <th>2</th>\n",
       "      <td>1.0</td>\n",
       "      <td>A1</td>\n",
       "      <td>76.0</td>\n",
       "      <td>BANGALORE</td>\n",
       "      <td>Gold</td>\n",
       "      <td>500000.0</td>\n",
       "      <td>C1</td>\n",
       "      <td>Self Employed</td>\n",
       "      <td>3.0</td>\n",
       "      <td>15-Jan-04</td>\n",
       "      <td>259490.06</td>\n",
       "    </tr>\n",
       "    <tr>\n",
       "      <th>3</th>\n",
       "      <td>1.0</td>\n",
       "      <td>A1</td>\n",
       "      <td>76.0</td>\n",
       "      <td>BANGALORE</td>\n",
       "      <td>Gold</td>\n",
       "      <td>500000.0</td>\n",
       "      <td>C1</td>\n",
       "      <td>Self Employed</td>\n",
       "      <td>4.0</td>\n",
       "      <td>25-Jan-04</td>\n",
       "      <td>437555.12</td>\n",
       "    </tr>\n",
       "    <tr>\n",
       "      <th>4</th>\n",
       "      <td>1.0</td>\n",
       "      <td>A1</td>\n",
       "      <td>76.0</td>\n",
       "      <td>BANGALORE</td>\n",
       "      <td>Gold</td>\n",
       "      <td>500000.0</td>\n",
       "      <td>C1</td>\n",
       "      <td>Self Employed</td>\n",
       "      <td>5.0</td>\n",
       "      <td>17-Jan-05</td>\n",
       "      <td>165972.88</td>\n",
       "    </tr>\n",
       "    <tr>\n",
       "      <th>5</th>\n",
       "      <td>1.0</td>\n",
       "      <td>A1</td>\n",
       "      <td>76.0</td>\n",
       "      <td>BANGALORE</td>\n",
       "      <td>Gold</td>\n",
       "      <td>500000.0</td>\n",
       "      <td>C1</td>\n",
       "      <td>Self Employed</td>\n",
       "      <td>6.0</td>\n",
       "      <td>23-Feb-05</td>\n",
       "      <td>365366.62</td>\n",
       "    </tr>\n",
       "    <tr>\n",
       "      <th>6</th>\n",
       "      <td>1.0</td>\n",
       "      <td>A1</td>\n",
       "      <td>76.0</td>\n",
       "      <td>BANGALORE</td>\n",
       "      <td>Gold</td>\n",
       "      <td>500000.0</td>\n",
       "      <td>C1</td>\n",
       "      <td>Self Employed</td>\n",
       "      <td>7.0</td>\n",
       "      <td>1-Feb-05</td>\n",
       "      <td>14473.41</td>\n",
       "    </tr>\n",
       "    <tr>\n",
       "      <th>7</th>\n",
       "      <td>1.0</td>\n",
       "      <td>A1</td>\n",
       "      <td>76.0</td>\n",
       "      <td>BANGALORE</td>\n",
       "      <td>Gold</td>\n",
       "      <td>500000.0</td>\n",
       "      <td>C1</td>\n",
       "      <td>Self Employed</td>\n",
       "      <td>103.0</td>\n",
       "      <td>12-Jan-04</td>\n",
       "      <td>350446.82</td>\n",
       "    </tr>\n",
       "    <tr>\n",
       "      <th>8</th>\n",
       "      <td>1.0</td>\n",
       "      <td>A1</td>\n",
       "      <td>76.0</td>\n",
       "      <td>BANGALORE</td>\n",
       "      <td>Gold</td>\n",
       "      <td>500000.0</td>\n",
       "      <td>C1</td>\n",
       "      <td>Self Employed</td>\n",
       "      <td>117.0</td>\n",
       "      <td>5-Feb-04</td>\n",
       "      <td>117964.43</td>\n",
       "    </tr>\n",
       "    <tr>\n",
       "      <th>9</th>\n",
       "      <td>1.0</td>\n",
       "      <td>A1</td>\n",
       "      <td>76.0</td>\n",
       "      <td>BANGALORE</td>\n",
       "      <td>Gold</td>\n",
       "      <td>500000.0</td>\n",
       "      <td>C1</td>\n",
       "      <td>Self Employed</td>\n",
       "      <td>131.0</td>\n",
       "      <td>19-Apr-06</td>\n",
       "      <td>79849.19</td>\n",
       "    </tr>\n",
       "  </tbody>\n",
       "</table>\n",
       "</div>"
      ],
      "text/plain": [
       "    No Customer   Age       City Product     Limit Company        Segment  \\\n",
       "0  1.0       A1  76.0  BANGALORE    Gold  500000.0      C1  Self Employed   \n",
       "1  1.0       A1  76.0  BANGALORE    Gold  500000.0      C1  Self Employed   \n",
       "2  1.0       A1  76.0  BANGALORE    Gold  500000.0      C1  Self Employed   \n",
       "3  1.0       A1  76.0  BANGALORE    Gold  500000.0      C1  Self Employed   \n",
       "4  1.0       A1  76.0  BANGALORE    Gold  500000.0      C1  Self Employed   \n",
       "5  1.0       A1  76.0  BANGALORE    Gold  500000.0      C1  Self Employed   \n",
       "6  1.0       A1  76.0  BANGALORE    Gold  500000.0      C1  Self Employed   \n",
       "7  1.0       A1  76.0  BANGALORE    Gold  500000.0      C1  Self Employed   \n",
       "8  1.0       A1  76.0  BANGALORE    Gold  500000.0      C1  Self Employed   \n",
       "9  1.0       A1  76.0  BANGALORE    Gold  500000.0      C1  Self Employed   \n",
       "\n",
       "   SL No:      Month     Amount  \n",
       "0     NaN  12-Jan-04  495414.75  \n",
       "1     2.0   3-Jan-04  245899.02  \n",
       "2     3.0  15-Jan-04  259490.06  \n",
       "3     4.0  25-Jan-04  437555.12  \n",
       "4     5.0  17-Jan-05  165972.88  \n",
       "5     6.0  23-Feb-05  365366.62  \n",
       "6     7.0   1-Feb-05   14473.41  \n",
       "7   103.0  12-Jan-04  350446.82  \n",
       "8   117.0   5-Feb-04  117964.43  \n",
       "9   131.0  19-Apr-06   79849.19  "
      ]
     },
     "execution_count": 10,
     "metadata": {},
     "output_type": "execute_result"
    }
   ],
   "source": [
    "merged_df.head(10)"
   ]
  },
  {
   "cell_type": "code",
   "execution_count": 11,
   "id": "afbf1271-e574-4127-9cb0-7ab640d6f0e9",
   "metadata": {},
   "outputs": [],
   "source": [
    "final_df = pd.merge(merged_df, spnd, left_on=['Customer','SL No:'], right_on=['Customer','Sl No:'], how='outer')"
   ]
  },
  {
   "cell_type": "code",
   "execution_count": 12,
   "id": "1d51c96f-a1fe-4960-aaa9-1acb573057b4",
   "metadata": {},
   "outputs": [
    {
     "data": {
      "text/html": [
       "<div>\n",
       "<style scoped>\n",
       "    .dataframe tbody tr th:only-of-type {\n",
       "        vertical-align: middle;\n",
       "    }\n",
       "\n",
       "    .dataframe tbody tr th {\n",
       "        vertical-align: top;\n",
       "    }\n",
       "\n",
       "    .dataframe thead th {\n",
       "        text-align: right;\n",
       "    }\n",
       "</style>\n",
       "<table border=\"1\" class=\"dataframe\">\n",
       "  <thead>\n",
       "    <tr style=\"text-align: right;\">\n",
       "      <th></th>\n",
       "      <th>No</th>\n",
       "      <th>Customer</th>\n",
       "      <th>Age</th>\n",
       "      <th>City</th>\n",
       "      <th>Product</th>\n",
       "      <th>Limit</th>\n",
       "      <th>Company</th>\n",
       "      <th>Segment</th>\n",
       "      <th>SL No:</th>\n",
       "      <th>Month_x</th>\n",
       "      <th>Amount_x</th>\n",
       "      <th>Sl No:</th>\n",
       "      <th>Month_y</th>\n",
       "      <th>Type</th>\n",
       "      <th>Amount_y</th>\n",
       "    </tr>\n",
       "  </thead>\n",
       "  <tbody>\n",
       "    <tr>\n",
       "      <th>0</th>\n",
       "      <td>1.0</td>\n",
       "      <td>A1</td>\n",
       "      <td>76.0</td>\n",
       "      <td>BANGALORE</td>\n",
       "      <td>Gold</td>\n",
       "      <td>500000.0</td>\n",
       "      <td>C1</td>\n",
       "      <td>Self Employed</td>\n",
       "      <td>NaN</td>\n",
       "      <td>12-Jan-04</td>\n",
       "      <td>495414.75</td>\n",
       "      <td>NaN</td>\n",
       "      <td>NaN</td>\n",
       "      <td>NaN</td>\n",
       "      <td>NaN</td>\n",
       "    </tr>\n",
       "    <tr>\n",
       "      <th>1</th>\n",
       "      <td>1.0</td>\n",
       "      <td>A1</td>\n",
       "      <td>76.0</td>\n",
       "      <td>BANGALORE</td>\n",
       "      <td>Gold</td>\n",
       "      <td>500000.0</td>\n",
       "      <td>C1</td>\n",
       "      <td>Self Employed</td>\n",
       "      <td>2.0</td>\n",
       "      <td>3-Jan-04</td>\n",
       "      <td>245899.02</td>\n",
       "      <td>2.0</td>\n",
       "      <td>3-Jan-04</td>\n",
       "      <td>PETRO</td>\n",
       "      <td>410556.13</td>\n",
       "    </tr>\n",
       "    <tr>\n",
       "      <th>2</th>\n",
       "      <td>1.0</td>\n",
       "      <td>A1</td>\n",
       "      <td>76.0</td>\n",
       "      <td>BANGALORE</td>\n",
       "      <td>Gold</td>\n",
       "      <td>500000.0</td>\n",
       "      <td>C1</td>\n",
       "      <td>Self Employed</td>\n",
       "      <td>3.0</td>\n",
       "      <td>15-Jan-04</td>\n",
       "      <td>259490.06</td>\n",
       "      <td>3.0</td>\n",
       "      <td>15-Jan-04</td>\n",
       "      <td>CLOTHES</td>\n",
       "      <td>23740.46</td>\n",
       "    </tr>\n",
       "    <tr>\n",
       "      <th>3</th>\n",
       "      <td>1.0</td>\n",
       "      <td>A1</td>\n",
       "      <td>76.0</td>\n",
       "      <td>BANGALORE</td>\n",
       "      <td>Gold</td>\n",
       "      <td>500000.0</td>\n",
       "      <td>C1</td>\n",
       "      <td>Self Employed</td>\n",
       "      <td>4.0</td>\n",
       "      <td>25-Jan-04</td>\n",
       "      <td>437555.12</td>\n",
       "      <td>4.0</td>\n",
       "      <td>25-Jan-04</td>\n",
       "      <td>FOOD</td>\n",
       "      <td>484342.47</td>\n",
       "    </tr>\n",
       "    <tr>\n",
       "      <th>4</th>\n",
       "      <td>1.0</td>\n",
       "      <td>A1</td>\n",
       "      <td>76.0</td>\n",
       "      <td>BANGALORE</td>\n",
       "      <td>Gold</td>\n",
       "      <td>500000.0</td>\n",
       "      <td>C1</td>\n",
       "      <td>Self Employed</td>\n",
       "      <td>5.0</td>\n",
       "      <td>17-Jan-05</td>\n",
       "      <td>165972.88</td>\n",
       "      <td>5.0</td>\n",
       "      <td>17-Jan-05</td>\n",
       "      <td>CAMERA</td>\n",
       "      <td>369694.07</td>\n",
       "    </tr>\n",
       "  </tbody>\n",
       "</table>\n",
       "</div>"
      ],
      "text/plain": [
       "    No Customer   Age       City Product     Limit Company        Segment  \\\n",
       "0  1.0       A1  76.0  BANGALORE    Gold  500000.0      C1  Self Employed   \n",
       "1  1.0       A1  76.0  BANGALORE    Gold  500000.0      C1  Self Employed   \n",
       "2  1.0       A1  76.0  BANGALORE    Gold  500000.0      C1  Self Employed   \n",
       "3  1.0       A1  76.0  BANGALORE    Gold  500000.0      C1  Self Employed   \n",
       "4  1.0       A1  76.0  BANGALORE    Gold  500000.0      C1  Self Employed   \n",
       "\n",
       "   SL No:    Month_x   Amount_x  Sl No:    Month_y     Type   Amount_y  \n",
       "0     NaN  12-Jan-04  495414.75     NaN        NaN      NaN        NaN  \n",
       "1     2.0   3-Jan-04  245899.02     2.0   3-Jan-04    PETRO  410556.13  \n",
       "2     3.0  15-Jan-04  259490.06     3.0  15-Jan-04  CLOTHES   23740.46  \n",
       "3     4.0  25-Jan-04  437555.12     4.0  25-Jan-04     FOOD  484342.47  \n",
       "4     5.0  17-Jan-05  165972.88     5.0  17-Jan-05   CAMERA  369694.07  "
      ]
     },
     "execution_count": 12,
     "metadata": {},
     "output_type": "execute_result"
    }
   ],
   "source": [
    "final_df.head()"
   ]
  },
  {
   "cell_type": "code",
   "execution_count": 13,
   "id": "7935d5fb-f004-4a91-96cb-6d17a706f222",
   "metadata": {},
   "outputs": [],
   "source": [
    "final_df.rename(columns={'Month_x': 'Repayment_Date', 'Amount_x': 'Repayment_amount', 'Month_y': 'spend_date', 'Amount_y': 'spend_amount'}, inplace=True)"
   ]
  },
  {
   "cell_type": "code",
   "execution_count": 14,
   "id": "28bfdf98-5da3-4bd4-bdbc-dc83a938a72e",
   "metadata": {},
   "outputs": [
    {
     "data": {
      "text/plain": [
       "No                  24\n",
       "Customer            23\n",
       "Age                 24\n",
       "City                24\n",
       "Product             24\n",
       "Limit               24\n",
       "Company             24\n",
       "Segment             24\n",
       "SL No:              25\n",
       "Repayment_Date      24\n",
       "Repayment_amount    24\n",
       "Sl No:              24\n",
       "spend_date          24\n",
       "Type                24\n",
       "spend_amount        24\n",
       "dtype: int64"
      ]
     },
     "execution_count": 14,
     "metadata": {},
     "output_type": "execute_result"
    }
   ],
   "source": [
    "final_df.isna().sum()"
   ]
  },
  {
   "cell_type": "code",
   "execution_count": 15,
   "id": "9d39bab7-3c9d-4192-991d-dcd79d82e6da",
   "metadata": {},
   "outputs": [],
   "source": [
    "# Drop rows with null values\n",
    "final_df = final_df.dropna()\n"
   ]
  },
  {
   "cell_type": "code",
   "execution_count": 16,
   "id": "5f23afa5-a0ce-41f9-b3f1-e8f0cec3dad2",
   "metadata": {},
   "outputs": [
    {
     "data": {
      "text/plain": [
       "1499"
      ]
     },
     "execution_count": 16,
     "metadata": {},
     "output_type": "execute_result"
    }
   ],
   "source": [
    "final_df.shape[0]"
   ]
  },
  {
   "cell_type": "markdown",
   "id": "6ca76da0-f76f-4e9e-93c2-3ec4df49696e",
   "metadata": {},
   "source": [
    "## 1a. In case age is less than 18, replace it with mean of age values.\n"
   ]
  },
  {
   "cell_type": "code",
   "execution_count": 17,
   "id": "f385ad91-7afd-45cf-aa8c-fd784137c4f2",
   "metadata": {},
   "outputs": [],
   "source": [
    "\n",
    "# Calculate the mean of age values less than 18\n",
    "mean_age_under_18 = final_df['Age'][final_df['Age'] < 18].mean()\n",
    "\n",
    "# Replace age values less than 18 with the calculated mean\n",
    "final_df['Age'] = np.where(final_df['Age'] < 18, mean_age_under_18, final_df['Age'])\n",
    "\n"
   ]
  },
  {
   "cell_type": "markdown",
   "id": "d798ac48-c222-4bdd-89e5-9fd7dd9ac10a",
   "metadata": {},
   "source": [
    "## b. In case spend amount is more than the limit, replace it with 50% of that customer’s limit. \n",
    "## (customer’s limit provided in acquisition table is the per transaction limit on his card)"
   ]
  },
  {
   "cell_type": "code",
   "execution_count": 18,
   "id": "8dc8290b-e7c2-42ed-9d8d-dc25f4c098a8",
   "metadata": {},
   "outputs": [],
   "source": [
    "def replace_spend_amount(row):\n",
    "    if row['spend_amount'] > row['Limit']:\n",
    "        return 0.5 * row['Limit']\n",
    "    else:\n",
    "        return row['spend_amount']\n",
    "\n",
    "# Apply the custom function to the 'spend_amount' column\n",
    "final_df['spend_amount'] = final_df.apply(replace_spend_amount, axis=1)"
   ]
  },
  {
   "cell_type": "code",
   "execution_count": 19,
   "id": "674afc1e-3c65-43ef-806a-92ce8f680531",
   "metadata": {},
   "outputs": [
    {
     "name": "stdout",
     "output_type": "stream",
     "text": [
      "         No Customer   Age        City   Product     Limit Company  \\\n",
      "18      2.0       A2  71.0    CALCUTTA    Silver  100000.0      C2   \n",
      "19      2.0       A2  71.0    CALCUTTA    Silver  100000.0      C2   \n",
      "20      2.0       A2  71.0    CALCUTTA    Silver  100000.0      C2   \n",
      "21      2.0       A2  71.0    CALCUTTA    Silver  100000.0      C2   \n",
      "22      2.0       A2  71.0    CALCUTTA    Silver  100000.0      C2   \n",
      "...     ...      ...   ...         ...       ...       ...     ...   \n",
      "1486   87.0      A87  27.0    CALCUTTA    Silver  100003.0     C10   \n",
      "1496   97.0      A97  58.0  TRIVANDRUM  Platimum   10000.0     C20   \n",
      "1497   98.0      A98  51.0    CALCUTTA  Platimum   10001.0     C21   \n",
      "1498   99.0      A99  35.0    CALCUTTA  Platimum   10002.0     C22   \n",
      "1499  100.0     A100  36.0      COCHIN    Silver  100000.0      C5   \n",
      "\n",
      "            Segment  SL No: Repayment_Date  Repayment_amount  Sl No:  \\\n",
      "18     Salaried_MNC   104.0       3-Jan-04         185955.07   104.0   \n",
      "19     Salaried_MNC   118.0      28-Feb-05         412783.34   118.0   \n",
      "20     Salaried_MNC   132.0       6-Apr-04         148038.67   132.0   \n",
      "21     Salaried_MNC   146.0      23-Nov-04         179144.68   146.0   \n",
      "22     Salaried_MNC   160.0      22-Nov-05          10274.00   160.0   \n",
      "...             ...     ...            ...               ...     ...   \n",
      "1486           Govt    89.0      30-Mar-06         462283.02    89.0   \n",
      "1496           Govt    99.0      12-Jan-04         121874.90    99.0   \n",
      "1497  Normal Salary   100.0       3-Jan-04         337815.57   100.0   \n",
      "1498  Self Employed   101.0      15-Jan-04          25682.73   101.0   \n",
      "1499   Salaried_MNC   102.0      25-Jan-04          69551.19   102.0   \n",
      "\n",
      "     spend_date          Type  spend_amount  \n",
      "18     3-Jan-04        RENTAL       50000.0  \n",
      "19    28-Feb-05  TRAIN TICKET       50000.0  \n",
      "20     6-Apr-04    BUS TICKET       50000.0  \n",
      "21    23-Nov-04         PETRO       50000.0  \n",
      "22     3-Sep-05     JEWELLERY       50000.0  \n",
      "...         ...           ...           ...  \n",
      "1486  30-Mar-06        RENTAL       50001.5  \n",
      "1496  12-Jan-04          AUTO        5000.0  \n",
      "1497   3-Jan-04      SHOPPING        5000.5  \n",
      "1498  15-Jan-04    AIR TICKET        5001.0  \n",
      "1499  25-Jan-04    BUS TICKET       50000.0  \n",
      "\n",
      "[607 rows x 15 columns]\n"
     ]
    }
   ],
   "source": [
    "filtered_df = final_df[final_df['spend_amount'] == (final_df['Limit'] / 2)]\n",
    "print(filtered_df)"
   ]
  },
  {
   "cell_type": "markdown",
   "id": "39ce2155-caf7-40dd-8658-0be12060977f",
   "metadata": {},
   "source": [
    "## c. Incase the repayment amount is more than the limit, replace the repayment with the limit.\n"
   ]
  },
  {
   "cell_type": "code",
   "execution_count": 20,
   "id": "a03c433c-f83b-4ca4-86eb-ea1ec41642ff",
   "metadata": {},
   "outputs": [],
   "source": [
    "\n",
    "# Replace 'Repayment_amount' values that are greater than 'Limit' with 'Limit'\n",
    "final_df['Repayment_amount'] = np.where(final_df['Repayment_amount'] > final_df['Limit'], final_df['Limit'], final_df['Repayment_amount'])\n"
   ]
  },
  {
   "cell_type": "markdown",
   "id": "5bd430e1-d00a-4025-8acd-746c606d3625",
   "metadata": {},
   "source": [
    "## 2. From the above dataset create the following summaries:\n",
    "## a. How many distinct customers exist?"
   ]
  },
  {
   "cell_type": "code",
   "execution_count": 21,
   "id": "16781b64-c325-4983-9eee-330d447d18a2",
   "metadata": {},
   "outputs": [
    {
     "name": "stdout",
     "output_type": "stream",
     "text": [
      "Number of distinct customers: 100\n"
     ]
    }
   ],
   "source": [
    "distinct_customers = final_df['Customer'].nunique()\n",
    "print(f\"Number of distinct customers: {distinct_customers}\")"
   ]
  },
  {
   "cell_type": "markdown",
   "id": "353b8d22-0322-4d78-a37a-2c88b649f12f",
   "metadata": {},
   "source": [
    "## b. How many distinct categories exist?\n"
   ]
  },
  {
   "cell_type": "code",
   "execution_count": 22,
   "id": "96ce76d0-c947-46b9-ba41-ecce632776be",
   "metadata": {},
   "outputs": [
    {
     "name": "stdout",
     "output_type": "stream",
     "text": [
      "Number of distinct categories: 15\n"
     ]
    }
   ],
   "source": [
    "\n",
    "distinct_categories = final_df['Type'].nunique()\n",
    "print(f\"Number of distinct categories: {distinct_categories}\")"
   ]
  },
  {
   "cell_type": "markdown",
   "id": "f6ada10b-989b-4cf8-b4bd-73ec268ab30e",
   "metadata": {},
   "source": [
    "## c. What is the average monthly spend by customers?\n"
   ]
  },
  {
   "cell_type": "code",
   "execution_count": 23,
   "id": "202483aa-4280-4cae-bc15-1638b47d3c70",
   "metadata": {},
   "outputs": [
    {
     "name": "stdout",
     "output_type": "stream",
     "text": [
      "Average monthly spend by customers: 271741.77748451056\n"
     ]
    }
   ],
   "source": [
    "\n",
    "# Convert 'spend_date' to datetime format\n",
    "final_df['spend_date'] = pd.to_datetime(final_df['spend_date'], format='%d-%b-%y')\n",
    "\n",
    "# Extract month and year from 'spend_date'\n",
    "final_df['spend_Year'] = final_df['spend_date'].dt.year.astype(int)\n",
    "final_df['spend_Month'] = final_df['spend_date'].dt.month.astype(int)\n",
    "\n",
    "# Group by 'Customer', 'Year' and 'Month', then sum 'spend_amount'\n",
    "grouped_df = final_df.groupby(['Customer', 'spend_Year', 'spend_Month'])['spend_amount'].sum()\n",
    "\n",
    "# Calculate the average of the sums\n",
    "average_monthly_spend = grouped_df.mean()\n",
    "\n",
    "print(f\"Average monthly spend by customers: {average_monthly_spend}\")"
   ]
  },
  {
   "cell_type": "code",
   "execution_count": 25,
   "id": "c45273c8-fd9a-494a-9794-d97ae10d8192",
   "metadata": {},
   "outputs": [
    {
     "data": {
      "text/html": [
       "<div>\n",
       "<style scoped>\n",
       "    .dataframe tbody tr th:only-of-type {\n",
       "        vertical-align: middle;\n",
       "    }\n",
       "\n",
       "    .dataframe tbody tr th {\n",
       "        vertical-align: top;\n",
       "    }\n",
       "\n",
       "    .dataframe thead th {\n",
       "        text-align: right;\n",
       "    }\n",
       "</style>\n",
       "<table border=\"1\" class=\"dataframe\">\n",
       "  <thead>\n",
       "    <tr style=\"text-align: right;\">\n",
       "      <th></th>\n",
       "      <th>No</th>\n",
       "      <th>Customer</th>\n",
       "      <th>Age</th>\n",
       "      <th>City</th>\n",
       "      <th>Product</th>\n",
       "      <th>Limit</th>\n",
       "      <th>Company</th>\n",
       "      <th>Segment</th>\n",
       "      <th>SL No:</th>\n",
       "      <th>Repayment_Date</th>\n",
       "      <th>Repayment_amount</th>\n",
       "      <th>Sl No:</th>\n",
       "      <th>spend_date</th>\n",
       "      <th>Type</th>\n",
       "      <th>spend_amount</th>\n",
       "      <th>spend_Year</th>\n",
       "      <th>spend_Month</th>\n",
       "    </tr>\n",
       "  </thead>\n",
       "  <tbody>\n",
       "    <tr>\n",
       "      <th>1</th>\n",
       "      <td>1.0</td>\n",
       "      <td>A1</td>\n",
       "      <td>76.0</td>\n",
       "      <td>BANGALORE</td>\n",
       "      <td>Gold</td>\n",
       "      <td>500000.0</td>\n",
       "      <td>C1</td>\n",
       "      <td>Self Employed</td>\n",
       "      <td>2.0</td>\n",
       "      <td>3-Jan-04</td>\n",
       "      <td>245899.02</td>\n",
       "      <td>2.0</td>\n",
       "      <td>2004-01-03</td>\n",
       "      <td>PETRO</td>\n",
       "      <td>410556.13</td>\n",
       "      <td>2004</td>\n",
       "      <td>1</td>\n",
       "    </tr>\n",
       "    <tr>\n",
       "      <th>2</th>\n",
       "      <td>1.0</td>\n",
       "      <td>A1</td>\n",
       "      <td>76.0</td>\n",
       "      <td>BANGALORE</td>\n",
       "      <td>Gold</td>\n",
       "      <td>500000.0</td>\n",
       "      <td>C1</td>\n",
       "      <td>Self Employed</td>\n",
       "      <td>3.0</td>\n",
       "      <td>15-Jan-04</td>\n",
       "      <td>259490.06</td>\n",
       "      <td>3.0</td>\n",
       "      <td>2004-01-15</td>\n",
       "      <td>CLOTHES</td>\n",
       "      <td>23740.46</td>\n",
       "      <td>2004</td>\n",
       "      <td>1</td>\n",
       "    </tr>\n",
       "    <tr>\n",
       "      <th>3</th>\n",
       "      <td>1.0</td>\n",
       "      <td>A1</td>\n",
       "      <td>76.0</td>\n",
       "      <td>BANGALORE</td>\n",
       "      <td>Gold</td>\n",
       "      <td>500000.0</td>\n",
       "      <td>C1</td>\n",
       "      <td>Self Employed</td>\n",
       "      <td>4.0</td>\n",
       "      <td>25-Jan-04</td>\n",
       "      <td>437555.12</td>\n",
       "      <td>4.0</td>\n",
       "      <td>2004-01-25</td>\n",
       "      <td>FOOD</td>\n",
       "      <td>484342.47</td>\n",
       "      <td>2004</td>\n",
       "      <td>1</td>\n",
       "    </tr>\n",
       "    <tr>\n",
       "      <th>4</th>\n",
       "      <td>1.0</td>\n",
       "      <td>A1</td>\n",
       "      <td>76.0</td>\n",
       "      <td>BANGALORE</td>\n",
       "      <td>Gold</td>\n",
       "      <td>500000.0</td>\n",
       "      <td>C1</td>\n",
       "      <td>Self Employed</td>\n",
       "      <td>5.0</td>\n",
       "      <td>17-Jan-05</td>\n",
       "      <td>165972.88</td>\n",
       "      <td>5.0</td>\n",
       "      <td>2005-01-17</td>\n",
       "      <td>CAMERA</td>\n",
       "      <td>369694.07</td>\n",
       "      <td>2005</td>\n",
       "      <td>1</td>\n",
       "    </tr>\n",
       "    <tr>\n",
       "      <th>5</th>\n",
       "      <td>1.0</td>\n",
       "      <td>A1</td>\n",
       "      <td>76.0</td>\n",
       "      <td>BANGALORE</td>\n",
       "      <td>Gold</td>\n",
       "      <td>500000.0</td>\n",
       "      <td>C1</td>\n",
       "      <td>Self Employed</td>\n",
       "      <td>6.0</td>\n",
       "      <td>23-Feb-05</td>\n",
       "      <td>365366.62</td>\n",
       "      <td>6.0</td>\n",
       "      <td>2005-02-23</td>\n",
       "      <td>SANDALS</td>\n",
       "      <td>168285.60</td>\n",
       "      <td>2005</td>\n",
       "      <td>2</td>\n",
       "    </tr>\n",
       "  </tbody>\n",
       "</table>\n",
       "</div>"
      ],
      "text/plain": [
       "    No Customer   Age       City Product     Limit Company        Segment  \\\n",
       "1  1.0       A1  76.0  BANGALORE    Gold  500000.0      C1  Self Employed   \n",
       "2  1.0       A1  76.0  BANGALORE    Gold  500000.0      C1  Self Employed   \n",
       "3  1.0       A1  76.0  BANGALORE    Gold  500000.0      C1  Self Employed   \n",
       "4  1.0       A1  76.0  BANGALORE    Gold  500000.0      C1  Self Employed   \n",
       "5  1.0       A1  76.0  BANGALORE    Gold  500000.0      C1  Self Employed   \n",
       "\n",
       "   SL No: Repayment_Date  Repayment_amount  Sl No: spend_date     Type  \\\n",
       "1     2.0       3-Jan-04         245899.02     2.0 2004-01-03    PETRO   \n",
       "2     3.0      15-Jan-04         259490.06     3.0 2004-01-15  CLOTHES   \n",
       "3     4.0      25-Jan-04         437555.12     4.0 2004-01-25     FOOD   \n",
       "4     5.0      17-Jan-05         165972.88     5.0 2005-01-17   CAMERA   \n",
       "5     6.0      23-Feb-05         365366.62     6.0 2005-02-23  SANDALS   \n",
       "\n",
       "   spend_amount  spend_Year  spend_Month  \n",
       "1     410556.13        2004            1  \n",
       "2      23740.46        2004            1  \n",
       "3     484342.47        2004            1  \n",
       "4     369694.07        2005            1  \n",
       "5     168285.60        2005            2  "
      ]
     },
     "execution_count": 25,
     "metadata": {},
     "output_type": "execute_result"
    }
   ],
   "source": [
    "final_df.head()"
   ]
  },
  {
   "cell_type": "markdown",
   "id": "5ad075a6-1866-4f56-a8c9-d0cad42242a0",
   "metadata": {},
   "source": [
    " ## d. What is the average monthly repayment by customers?\n"
   ]
  },
  {
   "cell_type": "code",
   "execution_count": 26,
   "id": "641ac9fa-5eec-44ef-b8a3-3cbf020ab48d",
   "metadata": {},
   "outputs": [
    {
     "name": "stdout",
     "output_type": "stream",
     "text": [
      "Average monthly repayment by customers: 306374.6182205514\n"
     ]
    }
   ],
   "source": [
    "\n",
    "# Convert 'Repayment_Date' to datetime format\n",
    "final_df['Repayment_Date'] = pd.to_datetime(final_df['Repayment_Date'], format='%d-%b-%y')\n",
    "\n",
    "# Extract month and year from 'Repayment_Date'\n",
    "final_df['repay_Year'] = final_df['Repayment_Date'].dt.year.astype(int)\n",
    "final_df['repay_Month'] = final_df['Repayment_Date'].dt.month.astype(int)\n",
    "\n",
    "# Group by 'Customer', 'Year' and 'Month', then sum 'Repayment_amount'\n",
    "grouped_df = final_df.groupby(['Customer', 'repay_Year', 'repay_Month'])['Repayment_amount'].sum()\n",
    "\n",
    "# Calculate the average of the sums\n",
    "average_monthly_repayment = grouped_df.mean()\n",
    "\n",
    "print(f\"Average monthly repayment by customers: {average_monthly_repayment}\")\n"
   ]
  },
  {
   "cell_type": "markdown",
   "id": "301eabfd-eff8-4215-ab52-08bd67655435",
   "metadata": {},
   "source": [
    " ## e. If the monthly rate of interest is 2.9%, what is the profit for the bank for each month? \n"
   ]
  },
  {
   "cell_type": "code",
   "execution_count": 27,
   "id": "248d220f-fc57-4f0c-95e5-689d10854b76",
   "metadata": {},
   "outputs": [
    {
     "name": "stdout",
     "output_type": "stream",
     "text": [
      "Monthly profit for the bank: \n",
      "repay_Year  repay_Month\n",
      "0.0         0.0                 0.00000\n",
      "2004.0      1.0            276433.00482\n",
      "            2.0             76675.24977\n",
      "            3.0             60566.84249\n",
      "            4.0            118384.99596\n",
      "            5.0            100967.86189\n",
      "            9.0             33494.37766\n",
      "            11.0            35539.36747\n",
      "2005.0      1.0            110033.81550\n",
      "            2.0            235134.81010\n",
      "            4.0             69967.10201\n",
      "            5.0            363077.02750\n",
      "            6.0             24131.09894\n",
      "            7.0             42109.31486\n",
      "            8.0            123799.14400\n",
      "            9.0             19961.01378\n",
      "            10.0            30866.40404\n",
      "            11.0           138106.48250\n",
      "            12.0            37485.09840\n",
      "2006.0      1.0             41298.92436\n",
      "            2.0            134907.32488\n",
      "            3.0            286077.23235\n",
      "            4.0            256314.97808\n",
      "            5.0            278969.86160\n",
      "            6.0             46400.49561\n",
      "            7.0            150523.92348\n",
      "            8.0             40870.70949\n",
      "            9.0             52667.45448\n",
      "            10.0            50353.33684\n",
      "            11.0            74850.74029\n",
      "            12.0            49279.82963\n",
      "Name: Interest_Earned, dtype: float64\n"
     ]
    }
   ],
   "source": [
    "# Group by 'Customer', 'Year' and 'Month', then sum 'Repayment_amount' and 'spend_amount'\n",
    "repayment_df = final_df.groupby(['Customer', 'repay_Year', 'repay_Month'])['Repayment_amount'].sum().reset_index()\n",
    "spend_df = final_df.groupby(['Customer', 'spend_Year', 'spend_Month'])['spend_amount'].sum().reset_index()\n",
    "\n",
    "# Merge the two dataframes on 'Customer', 'Year' and 'Month'\n",
    "merged_df = pd.merge(repayment_df, spend_df, left_on=['Customer', 'repay_Year', 'repay_Month'], right_on=['Customer', 'spend_Year', 'spend_Month'], how='outer')\n",
    "\n",
    "# Fill NaN values with 0\n",
    "merged_df.fillna(0, inplace=True)\n",
    "\n",
    "# Calculate monthly profit for each customer\n",
    "merged_df['Monthly_Profit'] = merged_df['Repayment_amount'] - merged_df['spend_amount']\n",
    "\n",
    "# Apply interest rate to positive profits\n",
    "interest_rate = 2.9 / 100\n",
    "merged_df['Interest_Earned'] = merged_df['Monthly_Profit'].apply(lambda x: x * interest_rate if x > 0 else 0)\n",
    "\n",
    "# Group by 'Year' and 'Month', then sum 'Interest_Earned'\n",
    "monthly_profit = merged_df.groupby(['repay_Year', 'repay_Month'])['Interest_Earned'].sum()\n",
    "\n",
    "print(f\"Monthly profit for the bank: \\n{monthly_profit}\")\n"
   ]
  },
  {
   "cell_type": "markdown",
   "id": "32f7807b-84ef-4731-915d-7e32677b8d5e",
   "metadata": {},
   "source": [
    "# f. What are the top 5 product types?"
   ]
  },
  {
   "cell_type": "code",
   "execution_count": 29,
   "id": "42978d62-909f-4e86-bb33-7ba6e4aa951a",
   "metadata": {},
   "outputs": [
    {
     "name": "stdout",
     "output_type": "stream",
     "text": [
      "Type\n",
      "PETRO           200\n",
      "FOOD            160\n",
      "CAMERA          160\n",
      "AIR TICKET      147\n",
      "TRAIN TICKET    132\n",
      "Name: count, dtype: int64\n"
     ]
    }
   ],
   "source": [
    "top_product_types = final_df['Type'].value_counts().head(5)\n",
    "\n",
    "print(top_product_types)"
   ]
  },
  {
   "cell_type": "markdown",
   "id": "18c7c993-4f7b-4a27-b182-6a78e162f6e5",
   "metadata": {},
   "source": [
    "## g. Which city is having maximum spend?\n"
   ]
  },
  {
   "cell_type": "code",
   "execution_count": 25,
   "id": "32443743-0612-4635-bf01-d32dff874150",
   "metadata": {},
   "outputs": [
    {
     "name": "stdout",
     "output_type": "stream",
     "text": [
      "COCHIN\n"
     ]
    }
   ],
   "source": [
    "\n",
    "city_max_spend = final_df.groupby('City')['spend_amount'].sum().idxmax()\n",
    "print(city_max_spend)\n"
   ]
  },
  {
   "cell_type": "markdown",
   "id": "5b5b4aca-f37d-4dff-b510-7c43257aa439",
   "metadata": {},
   "source": [
    "## h. WHich age Group is spending more money\n"
   ]
  },
  {
   "cell_type": "code",
   "execution_count": 30,
   "id": "3010e626-3be1-4041-a320-570cd2bd8f0f",
   "metadata": {},
   "outputs": [
    {
     "name": "stdout",
     "output_type": "stream",
     "text": [
      "The age group that spends the most is 20-29\n"
     ]
    }
   ],
   "source": [
    "\n",
    "# Define the age groups\n",
    "bins = [0, 20, 30, 40, 50, 60, 70, 120]\n",
    "labels = ['<20', '20-29', '30-39', '40-49', '50-59', '60-69', '70+']\n",
    "\n",
    "# Create a new column 'age_group' in the dataframe\n",
    "final_df['age_group'] = pd.cut(final_df['Age'], bins=bins, labels=labels, right=False)\n",
    "\n",
    "# Group by 'age_group' and calculate the sum of 'spend_amount'\n",
    "age_group_spend = final_df.groupby('age_group', observed=True)['spend_amount'].sum()\n",
    "\n",
    "# Get the age group with maximum spend\n",
    "max_spend_age_group = age_group_spend.idxmax()\n",
    "\n",
    "print(f\"The age group that spends the most is {max_spend_age_group}\")\n"
   ]
  },
  {
   "cell_type": "markdown",
   "id": "013b9ad7-d670-437b-a026-aee7091bdd13",
   "metadata": {},
   "source": [
    "## i. Who are the top 10 customers in terms of repayment?\n"
   ]
  },
  {
   "cell_type": "code",
   "execution_count": 31,
   "id": "d71c3a93-959c-47f6-81ed-604ed663dddb",
   "metadata": {},
   "outputs": [
    {
     "name": "stdout",
     "output_type": "stream",
     "text": [
      "Customer\n",
      "A61    10539142.91\n",
      "A60     9876290.74\n",
      "A13     9572000.66\n",
      "A43     8489871.46\n",
      "A45     8448334.87\n",
      "A12     8334760.16\n",
      "A14     7943268.63\n",
      "A44     7744730.12\n",
      "A39     7622483.30\n",
      "A42     7615460.86\n",
      "Name: Repayment_amount, dtype: float64\n"
     ]
    }
   ],
   "source": [
    "\n",
    "# Group by 'Customer' and calculate the sum of 'Repayment_amount'\n",
    "customer_repayment = final_df.groupby('Customer')['Repayment_amount'].sum()\n",
    "\n",
    "# Sort the customers by repayment amount in descending order and get the top 10\n",
    "top_10_customers = customer_repayment.sort_values(ascending=False).head(10)\n",
    "\n",
    "print(top_10_customers)\n"
   ]
  },
  {
   "cell_type": "markdown",
   "id": "3cea86f9-0a6f-4543-afb6-8964df3555e8",
   "metadata": {},
   "source": [
    "## 3.Calculate the city wise spend on each product on yearly basis. Also include a graphical \n",
    "## representation for the same."
   ]
  },
  {
   "cell_type": "code",
   "execution_count": 32,
   "id": "592394fd-cd20-4916-ad33-50b45a8a9ebd",
   "metadata": {},
   "outputs": [
    {
     "name": "stdout",
     "output_type": "stream",
     "text": [
      "City        Product   spend_Year\n",
      "BANGALORE   Gold      2004           8804407.74\n",
      "                      2005          12892362.99\n",
      "                      2006          12030611.09\n",
      "            Platimum  2004           1112732.30\n",
      "                      2005            912284.97\n",
      "                                       ...     \n",
      "TRIVANDRUM  Platimum  2005           3601443.30\n",
      "                      2006           2147403.75\n",
      "            Silver    2004            209667.48\n",
      "                      2005            269912.99\n",
      "                      2006            555862.12\n",
      "Name: spend_amount, Length: 72, dtype: float64\n"
     ]
    }
   ],
   "source": [
    "# Group by 'City', 'Product', and 'Year' and calculate the sum of 'spend_amount'\n",
    "city_product_yearly_spend = final_df.groupby(['City', 'Product', 'spend_Year'])['spend_amount'].sum()\n",
    "\n",
    "print(city_product_yearly_spend)\n"
   ]
  },
  {
   "cell_type": "code",
   "execution_count": 34,
   "id": "5c25af08-47c8-4294-a7d8-325d6c3c315a",
   "metadata": {},
   "outputs": [
    {
     "data": {
      "image/png": "[encoded data removed]",
      "text/plain": [
       "<Figure size 2036.13x600 with 8 Axes>"
      ]
     },
     "metadata": {},
     "output_type": "display_data"
    }
   ],
   "source": [
    "import matplotlib.ticker as ticker\n",
    "\n",
    "# Reset the index of the grouped data\n",
    "data = city_product_yearly_spend.reset_index()\n",
    "\n",
    "# Create a catplot\n",
    "g = sns.catplot(x='spend_Year', y='spend_amount', hue='Product', col='City', data=data, kind='bar', errorbar=None, height=6, aspect=.4)\n",
    "\n",
    "# Format y-axis labels as large numbers\n",
    "formatter = ticker.FuncFormatter(lambda x, pos: '{:,.0f}'.format(x))\n",
    "g.fig.get_axes()[0].yaxis.set_major_formatter(formatter)\n",
    "\n",
    "plt.show()\n"
   ]
  },
  {
   "cell_type": "markdown",
   "id": "bef23dd2-f811-4b49-8e8b-0e3077f09480",
   "metadata": {},
   "source": [
    "## 4. Create graphs for\n",
    "##  a. Monthly comparison of total spends, city wise"
   ]
  },
  {
   "cell_type": "code",
   "execution_count": 35,
   "id": "39df5da5-3fa9-4f47-9cde-b454c0739218",
   "metadata": {},
   "outputs": [
    {
     "data": {
      "image/png": "[encoded data removed]",
      "text/plain": [
       "<Figure size 1000x600 with 1 Axes>"
      ]
     },
     "metadata": {},
     "output_type": "display_data"
    }
   ],
   "source": [
    "import matplotlib.ticker as ticker\n",
    "\n",
    "# Group by 'City' and 'Month' and calculate the sum of 'spend_amount'\n",
    "city_monthly_spend = final_df.groupby(['City', 'spend_Month'])['spend_amount'].sum().reset_index()\n",
    "\n",
    "# Create a barplot\n",
    "plt.figure(figsize=(10,6))\n",
    "sns.barplot(x='spend_Month', y='spend_amount', hue='City', data=city_monthly_spend, errorbar=None)\n",
    "\n",
    "# Format y-axis labels as large numbers\n",
    "formatter = ticker.FuncFormatter(lambda x, pos: '{:,.0f}'.format(x))\n",
    "plt.gca().yaxis.set_major_formatter(formatter)\n",
    "\n",
    "plt.title('City-wise Spend on Monthly Basis')\n",
    "plt.show()\n"
   ]
  },
  {
   "cell_type": "markdown",
   "id": "1eb24ee8-d64d-4958-a0a7-3593db3b59be",
   "metadata": {},
   "source": [
    "##  b. Comparison of yearly spend on air tickets\n"
   ]
  },
  {
   "cell_type": "code",
   "execution_count": 36,
   "id": "ba948570-1748-47c2-a93c-a55bd7708810",
   "metadata": {},
   "outputs": [
    {
     "data": {
      "image/png": "[encoded data removed]",
      "text/plain": [
       "<Figure size 1000x600 with 1 Axes>"
      ]
     },
     "metadata": {},
     "output_type": "display_data"
    }
   ],
   "source": [
    "import matplotlib.ticker as ticker\n",
    "\n",
    "# Filter for rows where 'Type' is 'AIR TICKET'\n",
    "air_tickets = final_df[final_df['Type'] == 'AIR TICKET']\n",
    "\n",
    "# Group by 'Year' and calculate the sum of 'spend_amount'\n",
    "yearly_air_ticket_spend = air_tickets.groupby('spend_Year')['spend_amount'].sum().reset_index()\n",
    "\n",
    "# Create a barplot\n",
    "plt.figure(figsize=(10,6))\n",
    "sns.barplot(x='spend_Year', y='spend_amount', data=yearly_air_ticket_spend, errorbar=None)\n",
    "\n",
    "# Format x-axis labels as integers\n",
    "plt.gca().xaxis.set_major_locator(ticker.MaxNLocator(integer=True))\n",
    "\n",
    "# Format y-axis labels as large numbers\n",
    "formatter = ticker.FuncFormatter(lambda x, pos: '{:,.0f}'.format(x))\n",
    "plt.gca().yaxis.set_major_formatter(formatter)\n",
    "\n",
    "plt.title('Yearly Spend on Air Tickets')\n",
    "plt.show()\n"
   ]
  },
  {
   "cell_type": "markdown",
   "id": "2a908af1-7640-4e06-a2a8-422abe2cdc84",
   "metadata": {},
   "source": [
    "## c. Comparison of monthly spend for each product (look for any seasonality that exists in terms of spend)"
   ]
  },
  {
   "cell_type": "code",
   "execution_count": 37,
   "id": "f3aa6330-a675-4255-98ee-3f823146f532",
   "metadata": {},
   "outputs": [
    {
     "data": {
      "image/png": "[encoded data removed]",
      "text/plain": [
       "<Figure size 640x480 with 1 Axes>"
      ]
     },
     "metadata": {},
     "output_type": "display_data"
    }
   ],
   "source": [
    "# Group by 'Product' and 'Month', and calculate the sum of 'spend_amount'\n",
    "grouped_df = final_df.groupby(['spend_Month', 'Product'])['spend_amount'].sum().reset_index()\n",
    "\n",
    "# Pivot the DataFrame to get 'Product' as columns and 'Month' as index\n",
    "pivot_df = grouped_df.pivot(index='spend_Month', columns='Product', values='spend_amount')\n",
    "\n",
    "# Plot the DataFrame\n",
    "ax = pivot_df.plot(kind='bar', stacked=True)\n",
    "\n",
    "# Format y-axis as large values\n",
    "fmt = '{x:,.0f}'\n",
    "tick = ticker.StrMethodFormatter(fmt)\n",
    "ax.yaxis.set_major_formatter(tick) \n",
    "\n",
    "plt.title('Monthly Spend for Each Product')\n",
    "plt.xlabel('Month')\n",
    "plt.ylabel('Spend Amount')\n",
    "plt.legend(title='Product')\n",
    "plt.show()\n"
   ]
  },
  {
   "cell_type": "markdown",
   "id": "0ad5d380-649e-4c02-867c-53a262a14477",
   "metadata": {},
   "source": [
    "#5. Write user defined PYTHON function to perform the following analysis:\n",
    "#You need to find top 10 customers for each city in terms of their repayment amount by \n",
    "#different products and by different time periods i.e. year or month. The user should be able \n",
    "#to specify the product (Gold/Silver/Platinum) and time period (yearly or monthly) and the \n",
    "#function should automatically take these inputs while identifying the top 10 customers."
   ]
  },
  {
   "cell_type": "code",
   "execution_count": 38,
   "id": "16979e4e-5ef1-4cb3-8a6a-90266ab8dd57",
   "metadata": {},
   "outputs": [],
   "source": [
    "def top_customers(df, product, time_period):\n",
    "    # Filter the DataFrame based on the product\n",
    "    df_product = df.loc[df['Product'] == product].copy()\n",
    "\n",
    "    # Extract the year and month from the 'Repayment_Date' column\n",
    "    df_product['Year'] = pd.to_datetime(df_product['Repayment_Date']).dt.year\n",
    "    df_product['Month'] = pd.to_datetime(df_product['Repayment_Date']).dt.month\n",
    "\n",
    "    # Group by 'City', 'Customer', and the time period, and calculate the sum of 'Repayment_amount'\n",
    "    if time_period == 'yearly':\n",
    "        grouped_df = df_product.groupby(['City', 'Customer', 'Year'])['Repayment_amount'].sum().reset_index()\n",
    "    elif time_period == 'monthly':\n",
    "        grouped_df = df_product.groupby(['City', 'Customer', 'Year', 'Month'])['Repayment_amount'].sum().reset_index()\n",
    "\n",
    "    # Sort the DataFrame based on 'Repayment_amount' in descending order within each city\n",
    "    top_customers_df = grouped_df.groupby('City', group_keys=False).apply(lambda x: x.sort_values('Repayment_amount', ascending=False)).reset_index(drop=True)\n",
    "\n",
    "    # Get the top 10 customers for each city\n",
    "    top_customers_df = top_customers_df.groupby('City').head(10)\n",
    "\n",
    "    return top_customers_df\n",
    "\n"
   ]
  },
  {
   "cell_type": "code",
   "execution_count": 39,
   "id": "a0c6de39-62e4-449e-aadb-e078221c56d7",
   "metadata": {},
   "outputs": [
    {
     "name": "stdout",
     "output_type": "stream",
     "text": [
      "          City Customer  Year  Repayment_amount\n",
      "0    BANGALORE      A43  2005        4006956.60\n",
      "1    BANGALORE      A13  2005        3757673.00\n",
      "2    BANGALORE      A13  2006        3477314.89\n",
      "3    BANGALORE      A14  2004        2770261.30\n",
      "4    BANGALORE      A14  2006        2681025.72\n",
      "5    BANGALORE      A30  2005        2667746.38\n",
      "6    BANGALORE      A43  2006        2576417.39\n",
      "7    BANGALORE      A14  2005        2491981.61\n",
      "8    BANGALORE      A30  2006        2486958.41\n",
      "9    BANGALORE      A13  2004        2337012.77\n",
      "20      BOMBAY      A17  2006        3127783.14\n",
      "21      BOMBAY      A42  2005        3125758.43\n",
      "22      BOMBAY      A12  2006        3118090.96\n",
      "23      BOMBAY      A42  2004        3045914.71\n",
      "24      BOMBAY      A12  2005        2877588.30\n",
      "25      BOMBAY      A12  2004        2339080.90\n",
      "26      BOMBAY      A62  2004        1744114.25\n",
      "27      BOMBAY      A62  2006        1684085.69\n",
      "28      BOMBAY      A62  2005        1541617.21\n",
      "29      BOMBAY      A42  2006        1443787.72\n",
      "33    CALCUTTA      A60  2005        3742856.10\n",
      "34    CALCUTTA      A29  2006        3434298.00\n",
      "35    CALCUTTA      A60  2006        3242712.83\n",
      "36    CALCUTTA      A60  2004        2890721.81\n",
      "37    CALCUTTA      A15  2006        2783141.43\n",
      "38    CALCUTTA      A15  2005        1720768.79\n",
      "39    CALCUTTA      A29  2005        1706779.22\n",
      "40    CALCUTTA      A10  2006        1556613.06\n",
      "41    CALCUTTA      A31  2006        1527798.41\n",
      "42    CALCUTTA      A31  2005        1448641.71\n",
      "49     CHENNAI      A27  2005        2782591.71\n",
      "50     CHENNAI      A27  2006        2387485.81\n",
      "51     CHENNAI      A27  2004        1842823.04\n",
      "52     CHENNAI      A67  2004          67845.60\n",
      "53     CHENNAI      A67  2005          55638.77\n",
      "54      COCHIN      A61  2005        4276860.55\n",
      "55      COCHIN      A45  2005        4042447.57\n",
      "56      COCHIN      A61  2006        3744127.41\n",
      "57      COCHIN      A45  2004        2557947.39\n",
      "58      COCHIN      A61  2004        2518154.95\n",
      "59      COCHIN      A11  2006        2306906.76\n",
      "60      COCHIN      A11  2005        2045470.88\n",
      "61      COCHIN      A16  2006        1911369.63\n",
      "62      COCHIN      A45  2006        1847939.91\n",
      "63      COCHIN      A32  2006        1517308.65\n",
      "73       DELHI      A44  2005        4165317.77\n",
      "74       DELHI      A44  2004        2149383.50\n",
      "75       DELHI      A44  2006        1430028.85\n",
      "76       DELHI      A93  2004         342326.14\n",
      "77       DELHI      A82  2006         342200.74\n",
      "78       DELHI      A64  2006         323229.09\n",
      "79       PATNA      A26  2006        3330421.30\n",
      "80       PATNA      A26  2005        2433837.95\n",
      "81       PATNA      A26  2004        1490427.84\n",
      "82       PATNA      A66  2004         477039.78\n",
      "83       PATNA      A95  2004         369405.96\n",
      "84       PATNA      A66  2006         113094.58\n",
      "85  TRIVANDRUM      A28  2006        3376614.65\n",
      "86  TRIVANDRUM      A28  2005        2827009.82\n",
      "87  TRIVANDRUM      A28  2004         965108.49\n"
     ]
    }
   ],
   "source": [
    "top_customers_df = top_customers(final_df, 'Gold', 'yearly')\n",
    "print(top_customers_df)"
   ]
  },
  {
   "cell_type": "code",
   "execution_count": null,
   "id": "42b70b34-f84d-425d-b7f2-4a181058747d",
   "metadata": {},
   "outputs": [],
   "source": []
  }
 ],
 "metadata": {
  "kernelspec": {
   "display_name": "Python 3 (ipykernel)",
   "language": "python",
   "name": "python3"
  },
  "language_info": {
   "codemirror_mode": {
    "name": "ipython",
    "version": 3
   },
   "file_extension": ".py",
   "mimetype": "text/x-python",
   "name": "python",
   "nbconvert_exporter": "python",
   "pygments_lexer": "ipython3",
   "version": "3.11.5"
  }
 },
 "nbformat": 4,
 "nbformat_minor": 5
}
